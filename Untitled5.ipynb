{
 "cells": [
  {
   "cell_type": "markdown",
   "id": "2328bfe3-5747-4b6b-bbbe-cf84f9c17a85",
   "metadata": {},
   "source": [
    "Chapter 1 Ex."
   ]
  },
  {
   "cell_type": "markdown",
   "id": "9905c85d-5ae0-4cda-a87e-f9c5cc2fdd51",
   "metadata": {},
   "source": [
    "EX.1"
   ]
  },
  {
   "cell_type": "markdown",
   "id": "e745d8af-97aa-4317-9a0e-321a9fea9a85",
   "metadata": {},
   "source": [
    "testing on jupyterlab "
   ]
  },
  {
   "cell_type": "code",
   "execution_count": 7,
   "id": "c14ec17d-769e-48f3-9a93-728c18d55d4d",
   "metadata": {},
   "outputs": [
    {
     "name": "stdout",
     "output_type": "stream",
     "text": [
      "This is a test of the python interpreter.\n"
     ]
    }
   ],
   "source": [
    "print('This is a test of the python interpreter.')"
   ]
  },
  {
   "cell_type": "code",
   "execution_count": 9,
   "id": "c106218c-1e36-49bf-abcf-a8c1f0e85133",
   "metadata": {},
   "outputs": [
    {
     "ename": "SyntaxError",
     "evalue": "invalid syntax. Perhaps you forgot a comma? (149780285.py, line 1)",
     "output_type": "error",
     "traceback": [
      "\u001b[0;36m  Cell \u001b[0;32mIn[9], line 1\u001b[0;36m\u001b[0m\n\u001b[0;31m    print('This is a test', python interpreter)\u001b[0m\n\u001b[0m                            ^\u001b[0m\n\u001b[0;31mSyntaxError\u001b[0m\u001b[0;31m:\u001b[0m invalid syntax. Perhaps you forgot a comma?\n"
     ]
    }
   ],
   "source": [
    "print('This is a test', python interpreter)"
   ]
  },
  {
   "cell_type": "code",
   "execution_count": 11,
   "id": "ed04a333-075a-4ef0-9fd0-3e171eec316e",
   "metadata": {},
   "outputs": [
    {
     "name": "stdout",
     "output_type": "stream",
     "text": [
      "This is a test python interpreter\n"
     ]
    }
   ],
   "source": [
    "print('This is a test' , 'python interpreter')"
   ]
  }
 ],
 "metadata": {
  "kernelspec": {
   "display_name": "anaconda-panel-2023.05-py310",
   "language": "python",
   "name": "conda-env-anaconda-panel-2023.05-py310-py"
  },
  "language_info": {
   "codemirror_mode": {
    "name": "ipython",
    "version": 3
   },
   "file_extension": ".py",
   "mimetype": "text/x-python",
   "name": "python",
   "nbconvert_exporter": "python",
   "pygments_lexer": "ipython3",
   "version": "3.11.4"
  }
 },
 "nbformat": 4,
 "nbformat_minor": 5
}
